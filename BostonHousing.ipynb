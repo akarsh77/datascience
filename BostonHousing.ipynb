{
  "nbformat": 4,
  "nbformat_minor": 0,
  "metadata": {
    "colab": {
      "name": "BostonHousing.ipynb",
      "provenance": [],
      "collapsed_sections": []
    },
    "kernelspec": {
      "name": "python3",
      "display_name": "Python 3"
    },
    "accelerator": "TPU"
  },
  "cells": [
    {
      "cell_type": "code",
      "metadata": {
        "id": "BV0xiLtWoQMC",
        "colab_type": "code",
        "colab": {
          "base_uri": "https://localhost:8080/",
          "height": 98
        },
        "outputId": "c7c9f581-50a2-4e07-8aa5-c4d0a406e6a5"
      },
      "source": [
        "import keras\n",
        "import numpy as np\n",
        "import pandas as pd"
      ],
      "execution_count": 1,
      "outputs": [
        {
          "output_type": "stream",
          "text": [
            "Using TensorFlow backend.\n"
          ],
          "name": "stderr"
        },
        {
          "output_type": "display_data",
          "data": {
            "text/html": [
              "<p style=\"color: red;\">\n",
              "The default version of TensorFlow in Colab will soon switch to TensorFlow 2.x.<br>\n",
              "We recommend you <a href=\"https://www.tensorflow.org/guide/migrate\" target=\"_blank\">upgrade</a> now \n",
              "or ensure your notebook will continue to use TensorFlow 1.x via the <code>%tensorflow_version 1.x</code> magic:\n",
              "<a href=\"https://colab.research.google.com/notebooks/tensorflow_version.ipynb\" target=\"_blank\">more info</a>.</p>\n"
            ],
            "text/plain": [
              "<IPython.core.display.HTML object>"
            ]
          },
          "metadata": {
            "tags": []
          }
        }
      ]
    },
    {
      "cell_type": "code",
      "metadata": {
        "id": "NTQ72ylUpkUp",
        "colab_type": "code",
        "colab": {
          "base_uri": "https://localhost:8080/",
          "height": 243
        },
        "outputId": "0f906dce-289c-45f0-f74e-9dad72656323"
      },
      "source": [
        "from google.colab import drive\n",
        "drive.mount('/content/drive')\n",
        "df=pd.read_csv('drive/My Drive/Colab Notebooks/HousingPrices.csv')\n",
        "df.head()\n"
      ],
      "execution_count": 3,
      "outputs": [
        {
          "output_type": "stream",
          "text": [
            "Drive already mounted at /content/drive; to attempt to forcibly remount, call drive.mount(\"/content/drive\", force_remount=True).\n"
          ],
          "name": "stdout"
        },
        {
          "output_type": "execute_result",
          "data": {
            "text/html": [
              "<div>\n",
              "<style scoped>\n",
              "    .dataframe tbody tr th:only-of-type {\n",
              "        vertical-align: middle;\n",
              "    }\n",
              "\n",
              "    .dataframe tbody tr th {\n",
              "        vertical-align: top;\n",
              "    }\n",
              "\n",
              "    .dataframe thead th {\n",
              "        text-align: right;\n",
              "    }\n",
              "</style>\n",
              "<table border=\"1\" class=\"dataframe\">\n",
              "  <thead>\n",
              "    <tr style=\"text-align: right;\">\n",
              "      <th></th>\n",
              "      <th>YearBuilt</th>\n",
              "      <th>2ndFlrSF</th>\n",
              "      <th>GrLivArea</th>\n",
              "      <th>FullBath</th>\n",
              "      <th>HalfBath</th>\n",
              "      <th>BedroomAbvGr</th>\n",
              "      <th>TotRmsAbvGrd</th>\n",
              "      <th>YrSold</th>\n",
              "      <th>SalePrice</th>\n",
              "    </tr>\n",
              "  </thead>\n",
              "  <tbody>\n",
              "    <tr>\n",
              "      <th>0</th>\n",
              "      <td>2003</td>\n",
              "      <td>854</td>\n",
              "      <td>1710</td>\n",
              "      <td>2</td>\n",
              "      <td>1</td>\n",
              "      <td>3</td>\n",
              "      <td>8</td>\n",
              "      <td>2008</td>\n",
              "      <td>208500</td>\n",
              "    </tr>\n",
              "    <tr>\n",
              "      <th>1</th>\n",
              "      <td>1976</td>\n",
              "      <td>0</td>\n",
              "      <td>1262</td>\n",
              "      <td>2</td>\n",
              "      <td>0</td>\n",
              "      <td>3</td>\n",
              "      <td>6</td>\n",
              "      <td>2007</td>\n",
              "      <td>181500</td>\n",
              "    </tr>\n",
              "    <tr>\n",
              "      <th>2</th>\n",
              "      <td>2001</td>\n",
              "      <td>866</td>\n",
              "      <td>1786</td>\n",
              "      <td>2</td>\n",
              "      <td>1</td>\n",
              "      <td>3</td>\n",
              "      <td>6</td>\n",
              "      <td>2008</td>\n",
              "      <td>223500</td>\n",
              "    </tr>\n",
              "    <tr>\n",
              "      <th>3</th>\n",
              "      <td>1915</td>\n",
              "      <td>756</td>\n",
              "      <td>1717</td>\n",
              "      <td>1</td>\n",
              "      <td>0</td>\n",
              "      <td>3</td>\n",
              "      <td>7</td>\n",
              "      <td>2006</td>\n",
              "      <td>140000</td>\n",
              "    </tr>\n",
              "    <tr>\n",
              "      <th>4</th>\n",
              "      <td>2000</td>\n",
              "      <td>1053</td>\n",
              "      <td>2198</td>\n",
              "      <td>2</td>\n",
              "      <td>1</td>\n",
              "      <td>4</td>\n",
              "      <td>9</td>\n",
              "      <td>2008</td>\n",
              "      <td>250000</td>\n",
              "    </tr>\n",
              "  </tbody>\n",
              "</table>\n",
              "</div>"
            ],
            "text/plain": [
              "   YearBuilt  2ndFlrSF  GrLivArea  ...  TotRmsAbvGrd  YrSold  SalePrice\n",
              "0       2003       854       1710  ...             8    2008     208500\n",
              "1       1976         0       1262  ...             6    2007     181500\n",
              "2       2001       866       1786  ...             6    2008     223500\n",
              "3       1915       756       1717  ...             7    2006     140000\n",
              "4       2000      1053       2198  ...             9    2008     250000\n",
              "\n",
              "[5 rows x 9 columns]"
            ]
          },
          "metadata": {
            "tags": []
          },
          "execution_count": 3
        }
      ]
    },
    {
      "cell_type": "code",
      "metadata": {
        "id": "Az6Dv8D9qcHW",
        "colab_type": "code",
        "colab": {}
      },
      "source": [
        "X = df.drop(columns=['SalePrice'])\n",
        "Y = df[['SalePrice']]\n",
        "\n"
      ],
      "execution_count": 0,
      "outputs": []
    },
    {
      "cell_type": "code",
      "metadata": {
        "id": "LU0SoRKpqiks",
        "colab_type": "code",
        "colab": {
          "base_uri": "https://localhost:8080/",
          "height": 176
        },
        "outputId": "a25bac87-92f4-4558-a1ca-0e160d14213a"
      },
      "source": [
        "model = keras.models.Sequential()\n",
        "\n",
        "model.add(keras.layers.Dense(8, activation='relu', input_shape=(8,)))\n",
        "model.add(keras.layers.Dense(8, activation='relu'))\n",
        "model.add(keras.layers.Dense(1))\n",
        "\n",
        "model.compile(optimizer='adam', loss='mean_squared_error')"
      ],
      "execution_count": 5,
      "outputs": [
        {
          "output_type": "stream",
          "text": [
            "WARNING:tensorflow:From /usr/local/lib/python3.6/dist-packages/keras/backend/tensorflow_backend.py:66: The name tf.get_default_graph is deprecated. Please use tf.compat.v1.get_default_graph instead.\n",
            "\n",
            "WARNING:tensorflow:From /usr/local/lib/python3.6/dist-packages/keras/backend/tensorflow_backend.py:541: The name tf.placeholder is deprecated. Please use tf.compat.v1.placeholder instead.\n",
            "\n",
            "WARNING:tensorflow:From /usr/local/lib/python3.6/dist-packages/keras/backend/tensorflow_backend.py:4432: The name tf.random_uniform is deprecated. Please use tf.random.uniform instead.\n",
            "\n",
            "WARNING:tensorflow:From /usr/local/lib/python3.6/dist-packages/keras/optimizers.py:793: The name tf.train.Optimizer is deprecated. Please use tf.compat.v1.train.Optimizer instead.\n",
            "\n"
          ],
          "name": "stdout"
        }
      ]
    },
    {
      "cell_type": "code",
      "metadata": {
        "id": "wyoLXfwPqrsg",
        "colab_type": "code",
        "colab": {
          "base_uri": "https://localhost:8080/",
          "height": 1000
        },
        "outputId": "52272668-64b2-4657-a433-1dbf2b00603a"
      },
      "source": [
        "model.fit(X, Y, epochs=30, callbacks=[keras.callbacks.EarlyStopping(patience=3)])\n",
        "\n"
      ],
      "execution_count": 6,
      "outputs": [
        {
          "output_type": "stream",
          "text": [
            "WARNING:tensorflow:From /usr/local/lib/python3.6/dist-packages/keras/backend/tensorflow_backend.py:1033: The name tf.assign_add is deprecated. Please use tf.compat.v1.assign_add instead.\n",
            "\n",
            "WARNING:tensorflow:From /usr/local/lib/python3.6/dist-packages/keras/backend/tensorflow_backend.py:1020: The name tf.assign is deprecated. Please use tf.compat.v1.assign instead.\n",
            "\n",
            "WARNING:tensorflow:From /usr/local/lib/python3.6/dist-packages/keras/backend/tensorflow_backend.py:3005: The name tf.Session is deprecated. Please use tf.compat.v1.Session instead.\n",
            "\n",
            "Epoch 1/30\n",
            "WARNING:tensorflow:From /usr/local/lib/python3.6/dist-packages/keras/backend/tensorflow_backend.py:190: The name tf.get_default_session is deprecated. Please use tf.compat.v1.get_default_session instead.\n",
            "\n",
            "WARNING:tensorflow:From /usr/local/lib/python3.6/dist-packages/keras/backend/tensorflow_backend.py:197: The name tf.ConfigProto is deprecated. Please use tf.compat.v1.ConfigProto instead.\n",
            "\n",
            "WARNING:tensorflow:From /usr/local/lib/python3.6/dist-packages/keras/backend/tensorflow_backend.py:207: The name tf.global_variables is deprecated. Please use tf.compat.v1.global_variables instead.\n",
            "\n",
            "WARNING:tensorflow:From /usr/local/lib/python3.6/dist-packages/keras/backend/tensorflow_backend.py:216: The name tf.is_variable_initialized is deprecated. Please use tf.compat.v1.is_variable_initialized instead.\n",
            "\n",
            "WARNING:tensorflow:From /usr/local/lib/python3.6/dist-packages/keras/backend/tensorflow_backend.py:223: The name tf.variables_initializer is deprecated. Please use tf.compat.v1.variables_initializer instead.\n",
            "\n",
            "1460/1460 [==============================] - 1s 441us/step - loss: 38649711557.0849\n",
            "Epoch 2/30\n",
            "1460/1460 [==============================] - 0s 37us/step - loss: 38406368146.5863\n",
            "Epoch 3/30\n",
            "1460/1460 [==============================] - 0s 32us/step - loss: 38097298934.1808\n",
            "Epoch 4/30\n",
            "1460/1460 [==============================] - 0s 32us/step - loss: 37699826370.9808\n",
            "Epoch 5/30\n",
            "1460/1460 [==============================] - 0s 33us/step - loss: 37195907475.9890\n"
          ],
          "name": "stdout"
        },
        {
          "output_type": "stream",
          "text": [
            "/usr/local/lib/python3.6/dist-packages/keras/callbacks.py:842: RuntimeWarning: Early stopping conditioned on metric `val_loss` which is not available. Available metrics are: loss\n",
            "  (self.monitor, ','.join(list(logs.keys()))), RuntimeWarning\n"
          ],
          "name": "stderr"
        },
        {
          "output_type": "stream",
          "text": [
            "Epoch 6/30\n",
            "1460/1460 [==============================] - 0s 36us/step - loss: 36556576554.7836\n",
            "Epoch 7/30\n",
            "1460/1460 [==============================] - 0s 34us/step - loss: 35733033218.1041\n",
            "Epoch 8/30\n",
            "1460/1460 [==============================] - 0s 33us/step - loss: 34654297674.3452\n",
            "Epoch 9/30\n",
            "1460/1460 [==============================] - 0s 34us/step - loss: 33234178137.7753\n",
            "Epoch 10/30\n",
            "1460/1460 [==============================] - 0s 34us/step - loss: 31444641820.0548\n",
            "Epoch 11/30\n",
            "1460/1460 [==============================] - 0s 32us/step - loss: 29302713167.2548\n",
            "Epoch 12/30\n",
            "1460/1460 [==============================] - 0s 34us/step - loss: 26841521805.6767\n",
            "Epoch 13/30\n",
            "1460/1460 [==============================] - 0s 33us/step - loss: 24160977137.2712\n",
            "Epoch 14/30\n",
            "1460/1460 [==============================] - 0s 31us/step - loss: 21332100817.0082\n",
            "Epoch 15/30\n",
            "1460/1460 [==============================] - 0s 40us/step - loss: 18468242636.8000\n",
            "Epoch 16/30\n",
            "1460/1460 [==============================] - 0s 35us/step - loss: 15703679444.5151\n",
            "Epoch 17/30\n",
            "1460/1460 [==============================] - 0s 30us/step - loss: 13151295625.4685\n",
            "Epoch 18/30\n",
            "1460/1460 [==============================] - 0s 36us/step - loss: 10879567358.5973\n",
            "Epoch 19/30\n",
            "1460/1460 [==============================] - 0s 32us/step - loss: 8991381422.6411\n",
            "Epoch 20/30\n",
            "1460/1460 [==============================] - 0s 33us/step - loss: 7485092307.1123\n",
            "Epoch 21/30\n",
            "1460/1460 [==============================] - 0s 33us/step - loss: 6368188167.7151\n",
            "Epoch 22/30\n",
            "1460/1460 [==============================] - 0s 31us/step - loss: 5587058956.6247\n",
            "Epoch 23/30\n",
            "1460/1460 [==============================] - 0s 30us/step - loss: 5073475943.1014\n",
            "Epoch 24/30\n",
            "1460/1460 [==============================] - 0s 39us/step - loss: 4756112667.3534\n",
            "Epoch 25/30\n",
            "1460/1460 [==============================] - 0s 36us/step - loss: 4573016511.4740\n",
            "Epoch 26/30\n",
            "1460/1460 [==============================] - 0s 32us/step - loss: 4472333599.5616\n",
            "Epoch 27/30\n",
            "1460/1460 [==============================] - 0s 32us/step - loss: 4412045064.4164\n",
            "Epoch 28/30\n",
            "1460/1460 [==============================] - 0s 33us/step - loss: 4372187910.3123\n",
            "Epoch 29/30\n",
            "1460/1460 [==============================] - 0s 32us/step - loss: 4340792438.1808\n",
            "Epoch 30/30\n",
            "1460/1460 [==============================] - 0s 32us/step - loss: 4312672487.4521\n"
          ],
          "name": "stdout"
        },
        {
          "output_type": "execute_result",
          "data": {
            "text/plain": [
              "<keras.callbacks.History at 0x7f2f6efda4a8>"
            ]
          },
          "metadata": {
            "tags": []
          },
          "execution_count": 6
        }
      ]
    },
    {
      "cell_type": "code",
      "metadata": {
        "id": "fQU6RMXmq2N2",
        "colab_type": "code",
        "colab": {
          "base_uri": "https://localhost:8080/",
          "height": 34
        },
        "outputId": "5edd6722-01c9-4857-8059-0177f7d8ea8c"
      },
      "source": [
        "test_data = np.array([2003,\t854,\t1710,\t2,\t1,\t3,\t8,\t2008])\n",
        "print(model.predict(test_data.reshape(1,8), batch_size=1))\n",
        "\n"
      ],
      "execution_count": 8,
      "outputs": [
        {
          "output_type": "stream",
          "text": [
            "[[198685.97]]\n"
          ],
          "name": "stdout"
        }
      ]
    },
    {
      "cell_type": "code",
      "metadata": {
        "id": "9cRG9FKUrDt0",
        "colab_type": "code",
        "colab": {
          "base_uri": "https://localhost:8080/",
          "height": 34
        },
        "outputId": "669117c4-47ec-4c8b-b29e-1369f2d4406e"
      },
      "source": [
        "model.save('savedmodel.h5')\n",
        "!ls"
      ],
      "execution_count": 9,
      "outputs": [
        {
          "output_type": "stream",
          "text": [
            "drive  sample_data  savedmodel.h5\n"
          ],
          "name": "stdout"
        }
      ]
    },
    {
      "cell_type": "code",
      "metadata": {
        "id": "uxxRKNC8rM9x",
        "colab_type": "code",
        "colab": {
          "base_uri": "https://localhost:8080/",
          "height": 34
        },
        "outputId": "5c8af005-35f4-437a-e1df-b9c9c753010d"
      },
      "source": [
        "old_model = keras.models.load_model('savedmodel.h5')\n",
        "\n",
        "test_data = np.array([2003,\t854,\t1710,\t2,\t1,\t3,\t8,\t2008])\n",
        "print(old_model.predict(test_data.reshape(1,8), batch_size=1))\n"
      ],
      "execution_count": 11,
      "outputs": [
        {
          "output_type": "stream",
          "text": [
            "[[198685.97]]\n"
          ],
          "name": "stdout"
        }
      ]
    }
  ]
}